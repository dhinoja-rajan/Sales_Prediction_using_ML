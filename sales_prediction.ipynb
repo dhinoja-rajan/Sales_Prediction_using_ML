{
  "nbformat": 4,
  "nbformat_minor": 0,
  "metadata": {
    "colab": {
      "provenance": [],
      "authorship_tag": "ABX9TyMEfQOAvltMaODtsTlpJAH0",
      "include_colab_link": true
    },
    "kernelspec": {
      "name": "python3",
      "display_name": "Python 3"
    },
    "language_info": {
      "name": "python"
    }
  },
  "cells": [
    {
      "cell_type": "markdown",
      "metadata": {
        "id": "view-in-github",
        "colab_type": "text"
      },
      "source": [
        "<a href=\"https://colab.research.google.com/github/rajan-dhinoja/Sales_Prediction_using_ML/blob/main/sales_prediction.ipynb\" target=\"_parent\"><img src=\"https://colab.research.google.com/assets/colab-badge.svg\" alt=\"Open In Colab\"/></a>"
      ]
    },
    {
      "cell_type": "markdown",
      "source": [
        "---\n",
        "# **Sales_Prediction_using_ML (Regression Project)**\n",
        "---\n",
        "\n"
      ],
      "metadata": {
        "id": "KBPGWkUlq5PL"
      }
    },
    {
      "cell_type": "markdown",
      "metadata": {
        "id": "HvALcJ3yAryu"
      },
      "source": [
        "# ***Step-A: Data Preprocessing:-***"
      ]
    },
    {
      "cell_type": "markdown",
      "metadata": {
        "id": "LbMfPnCfAryw"
      },
      "source": [
        "## Step-1: Import Required Dependencies:-\n",
        "Import essential libraries and modules for data manipulation, visualization, and preprocessing..."
      ]
    },
    {
      "cell_type": "code",
      "source": [
        "import numpy as np\n",
        "import matplotlib.pyplot as plt\n",
        "import pandas as pd\n",
        "import seaborn as sns\n",
        "import re\n",
        "import nltk\n",
        "import warnings\n",
        "warnings.filterwarnings('ignore')\n",
        "\n",
        "# Set the option to prevent silent downcasting\n",
        "np.set_printoptions(formatter={'float': '{:,.2f}'.format}, suppress=True, precision=2)\n",
        "pd.options.display.float_format = '{:,.2f}'.format\n",
        "pd.set_option('future.no_silent_downcasting', True)\n",
        "\n",
        "print(\"\\t ✅ Required Libraries are Imported - Done!\\n\")"
      ],
      "metadata": {
        "id": "MmgVQ5oeAryx",
        "outputId": "6bf0e37b-5193-4159-d357-d6c97c5f2ca5",
        "colab": {
          "base_uri": "https://localhost:8080/"
        }
      },
      "execution_count": 1,
      "outputs": [
        {
          "output_type": "stream",
          "name": "stdout",
          "text": [
            "\t ✅ Required Libraries are Imported - Done!\n",
            "\n"
          ]
        }
      ]
    },
    {
      "cell_type": "markdown",
      "metadata": {
        "id": "yVRL8v08Aryx"
      },
      "source": [
        "## Step-2: Load the Dataset and Display Different overviews of Datasets:-"
      ]
    },
    {
      "cell_type": "code",
      "source": [
        "from google.colab import drive\n",
        "drive.mount('/content/drive')\n",
        "\n",
        "dataset = pd.DataFrame(pd.read_csv('/content/drive/MyDrive/Datasets/REGRESSION/Big_Mart_Sales/train_data.csv'))\n",
        "dataset.head()"
      ],
      "metadata": {
        "colab": {
          "base_uri": "https://localhost:8080/",
          "height": 224
        },
        "outputId": "8a64b316-d864-4084-ae46-84c3fc7568bb",
        "id": "xBtYmKrSAryy"
      },
      "execution_count": 2,
      "outputs": [
        {
          "output_type": "stream",
          "name": "stdout",
          "text": [
            "Drive already mounted at /content/drive; to attempt to forcibly remount, call drive.mount(\"/content/drive\", force_remount=True).\n"
          ]
        },
        {
          "output_type": "execute_result",
          "data": {
            "text/plain": [
              "  ProductID  Weight FatContent  ProductVisibility            ProductType  \\\n",
              "0     FDA15    9.30    Low Fat               0.02                  Dairy   \n",
              "1     DRC01    5.92    Regular               0.02            Soft Drinks   \n",
              "2     FDN15   17.50    Low Fat               0.02                   Meat   \n",
              "3     FDX07   19.20    Regular               0.00  Fruits and Vegetables   \n",
              "4     NCD19    8.93    Low Fat               0.00              Household   \n",
              "\n",
              "     MRP OutletID  EstablishmentYear OutletSize LocationType  \\\n",
              "0 249.81   OUT049               1999     Medium       Tier 1   \n",
              "1  48.27   OUT018               2009     Medium       Tier 3   \n",
              "2 141.62   OUT049               1999     Medium       Tier 1   \n",
              "3 182.09   OUT010               1998        NaN       Tier 3   \n",
              "4  53.86   OUT013               1987       High       Tier 3   \n",
              "\n",
              "          OutletType  OutletSales  \n",
              "0  Supermarket Type1     3,735.14  \n",
              "1  Supermarket Type2       443.42  \n",
              "2  Supermarket Type1     2,097.27  \n",
              "3      Grocery Store       732.38  \n",
              "4  Supermarket Type1       994.71  "
            ],
            "text/html": [
              "\n",
              "  <div id=\"df-45918bb4-1821-4d11-a042-1f2c5879d1dc\" class=\"colab-df-container\">\n",
              "    <div>\n",
              "<style scoped>\n",
              "    .dataframe tbody tr th:only-of-type {\n",
              "        vertical-align: middle;\n",
              "    }\n",
              "\n",
              "    .dataframe tbody tr th {\n",
              "        vertical-align: top;\n",
              "    }\n",
              "\n",
              "    .dataframe thead th {\n",
              "        text-align: right;\n",
              "    }\n",
              "</style>\n",
              "<table border=\"1\" class=\"dataframe\">\n",
              "  <thead>\n",
              "    <tr style=\"text-align: right;\">\n",
              "      <th></th>\n",
              "      <th>ProductID</th>\n",
              "      <th>Weight</th>\n",
              "      <th>FatContent</th>\n",
              "      <th>ProductVisibility</th>\n",
              "      <th>ProductType</th>\n",
              "      <th>MRP</th>\n",
              "      <th>OutletID</th>\n",
              "      <th>EstablishmentYear</th>\n",
              "      <th>OutletSize</th>\n",
              "      <th>LocationType</th>\n",
              "      <th>OutletType</th>\n",
              "      <th>OutletSales</th>\n",
              "    </tr>\n",
              "  </thead>\n",
              "  <tbody>\n",
              "    <tr>\n",
              "      <th>0</th>\n",
              "      <td>FDA15</td>\n",
              "      <td>9.30</td>\n",
              "      <td>Low Fat</td>\n",
              "      <td>0.02</td>\n",
              "      <td>Dairy</td>\n",
              "      <td>249.81</td>\n",
              "      <td>OUT049</td>\n",
              "      <td>1999</td>\n",
              "      <td>Medium</td>\n",
              "      <td>Tier 1</td>\n",
              "      <td>Supermarket Type1</td>\n",
              "      <td>3,735.14</td>\n",
              "    </tr>\n",
              "    <tr>\n",
              "      <th>1</th>\n",
              "      <td>DRC01</td>\n",
              "      <td>5.92</td>\n",
              "      <td>Regular</td>\n",
              "      <td>0.02</td>\n",
              "      <td>Soft Drinks</td>\n",
              "      <td>48.27</td>\n",
              "      <td>OUT018</td>\n",
              "      <td>2009</td>\n",
              "      <td>Medium</td>\n",
              "      <td>Tier 3</td>\n",
              "      <td>Supermarket Type2</td>\n",
              "      <td>443.42</td>\n",
              "    </tr>\n",
              "    <tr>\n",
              "      <th>2</th>\n",
              "      <td>FDN15</td>\n",
              "      <td>17.50</td>\n",
              "      <td>Low Fat</td>\n",
              "      <td>0.02</td>\n",
              "      <td>Meat</td>\n",
              "      <td>141.62</td>\n",
              "      <td>OUT049</td>\n",
              "      <td>1999</td>\n",
              "      <td>Medium</td>\n",
              "      <td>Tier 1</td>\n",
              "      <td>Supermarket Type1</td>\n",
              "      <td>2,097.27</td>\n",
              "    </tr>\n",
              "    <tr>\n",
              "      <th>3</th>\n",
              "      <td>FDX07</td>\n",
              "      <td>19.20</td>\n",
              "      <td>Regular</td>\n",
              "      <td>0.00</td>\n",
              "      <td>Fruits and Vegetables</td>\n",
              "      <td>182.09</td>\n",
              "      <td>OUT010</td>\n",
              "      <td>1998</td>\n",
              "      <td>NaN</td>\n",
              "      <td>Tier 3</td>\n",
              "      <td>Grocery Store</td>\n",
              "      <td>732.38</td>\n",
              "    </tr>\n",
              "    <tr>\n",
              "      <th>4</th>\n",
              "      <td>NCD19</td>\n",
              "      <td>8.93</td>\n",
              "      <td>Low Fat</td>\n",
              "      <td>0.00</td>\n",
              "      <td>Household</td>\n",
              "      <td>53.86</td>\n",
              "      <td>OUT013</td>\n",
              "      <td>1987</td>\n",
              "      <td>High</td>\n",
              "      <td>Tier 3</td>\n",
              "      <td>Supermarket Type1</td>\n",
              "      <td>994.71</td>\n",
              "    </tr>\n",
              "  </tbody>\n",
              "</table>\n",
              "</div>\n",
              "    <div class=\"colab-df-buttons\">\n",
              "\n",
              "  <div class=\"colab-df-container\">\n",
              "    <button class=\"colab-df-convert\" onclick=\"convertToInteractive('df-45918bb4-1821-4d11-a042-1f2c5879d1dc')\"\n",
              "            title=\"Convert this dataframe to an interactive table.\"\n",
              "            style=\"display:none;\">\n",
              "\n",
              "  <svg xmlns=\"http://www.w3.org/2000/svg\" height=\"24px\" viewBox=\"0 -960 960 960\">\n",
              "    <path d=\"M120-120v-720h720v720H120Zm60-500h600v-160H180v160Zm220 220h160v-160H400v160Zm0 220h160v-160H400v160ZM180-400h160v-160H180v160Zm440 0h160v-160H620v160ZM180-180h160v-160H180v160Zm440 0h160v-160H620v160Z\"/>\n",
              "  </svg>\n",
              "    </button>\n",
              "\n",
              "  <style>\n",
              "    .colab-df-container {\n",
              "      display:flex;\n",
              "      gap: 12px;\n",
              "    }\n",
              "\n",
              "    .colab-df-convert {\n",
              "      background-color: #E8F0FE;\n",
              "      border: none;\n",
              "      border-radius: 50%;\n",
              "      cursor: pointer;\n",
              "      display: none;\n",
              "      fill: #1967D2;\n",
              "      height: 32px;\n",
              "      padding: 0 0 0 0;\n",
              "      width: 32px;\n",
              "    }\n",
              "\n",
              "    .colab-df-convert:hover {\n",
              "      background-color: #E2EBFA;\n",
              "      box-shadow: 0px 1px 2px rgba(60, 64, 67, 0.3), 0px 1px 3px 1px rgba(60, 64, 67, 0.15);\n",
              "      fill: #174EA6;\n",
              "    }\n",
              "\n",
              "    .colab-df-buttons div {\n",
              "      margin-bottom: 4px;\n",
              "    }\n",
              "\n",
              "    [theme=dark] .colab-df-convert {\n",
              "      background-color: #3B4455;\n",
              "      fill: #D2E3FC;\n",
              "    }\n",
              "\n",
              "    [theme=dark] .colab-df-convert:hover {\n",
              "      background-color: #434B5C;\n",
              "      box-shadow: 0px 1px 3px 1px rgba(0, 0, 0, 0.15);\n",
              "      filter: drop-shadow(0px 1px 2px rgba(0, 0, 0, 0.3));\n",
              "      fill: #FFFFFF;\n",
              "    }\n",
              "  </style>\n",
              "\n",
              "    <script>\n",
              "      const buttonEl =\n",
              "        document.querySelector('#df-45918bb4-1821-4d11-a042-1f2c5879d1dc button.colab-df-convert');\n",
              "      buttonEl.style.display =\n",
              "        google.colab.kernel.accessAllowed ? 'block' : 'none';\n",
              "\n",
              "      async function convertToInteractive(key) {\n",
              "        const element = document.querySelector('#df-45918bb4-1821-4d11-a042-1f2c5879d1dc');\n",
              "        const dataTable =\n",
              "          await google.colab.kernel.invokeFunction('convertToInteractive',\n",
              "                                                    [key], {});\n",
              "        if (!dataTable) return;\n",
              "\n",
              "        const docLinkHtml = 'Like what you see? Visit the ' +\n",
              "          '<a target=\"_blank\" href=https://colab.research.google.com/notebooks/data_table.ipynb>data table notebook</a>'\n",
              "          + ' to learn more about interactive tables.';\n",
              "        element.innerHTML = '';\n",
              "        dataTable['output_type'] = 'display_data';\n",
              "        await google.colab.output.renderOutput(dataTable, element);\n",
              "        const docLink = document.createElement('div');\n",
              "        docLink.innerHTML = docLinkHtml;\n",
              "        element.appendChild(docLink);\n",
              "      }\n",
              "    </script>\n",
              "  </div>\n",
              "\n",
              "\n",
              "<div id=\"df-666e4e36-1356-4925-bcdb-debc1587acfd\">\n",
              "  <button class=\"colab-df-quickchart\" onclick=\"quickchart('df-666e4e36-1356-4925-bcdb-debc1587acfd')\"\n",
              "            title=\"Suggest charts\"\n",
              "            style=\"display:none;\">\n",
              "\n",
              "<svg xmlns=\"http://www.w3.org/2000/svg\" height=\"24px\"viewBox=\"0 0 24 24\"\n",
              "     width=\"24px\">\n",
              "    <g>\n",
              "        <path d=\"M19 3H5c-1.1 0-2 .9-2 2v14c0 1.1.9 2 2 2h14c1.1 0 2-.9 2-2V5c0-1.1-.9-2-2-2zM9 17H7v-7h2v7zm4 0h-2V7h2v10zm4 0h-2v-4h2v4z\"/>\n",
              "    </g>\n",
              "</svg>\n",
              "  </button>\n",
              "\n",
              "<style>\n",
              "  .colab-df-quickchart {\n",
              "      --bg-color: #E8F0FE;\n",
              "      --fill-color: #1967D2;\n",
              "      --hover-bg-color: #E2EBFA;\n",
              "      --hover-fill-color: #174EA6;\n",
              "      --disabled-fill-color: #AAA;\n",
              "      --disabled-bg-color: #DDD;\n",
              "  }\n",
              "\n",
              "  [theme=dark] .colab-df-quickchart {\n",
              "      --bg-color: #3B4455;\n",
              "      --fill-color: #D2E3FC;\n",
              "      --hover-bg-color: #434B5C;\n",
              "      --hover-fill-color: #FFFFFF;\n",
              "      --disabled-bg-color: #3B4455;\n",
              "      --disabled-fill-color: #666;\n",
              "  }\n",
              "\n",
              "  .colab-df-quickchart {\n",
              "    background-color: var(--bg-color);\n",
              "    border: none;\n",
              "    border-radius: 50%;\n",
              "    cursor: pointer;\n",
              "    display: none;\n",
              "    fill: var(--fill-color);\n",
              "    height: 32px;\n",
              "    padding: 0;\n",
              "    width: 32px;\n",
              "  }\n",
              "\n",
              "  .colab-df-quickchart:hover {\n",
              "    background-color: var(--hover-bg-color);\n",
              "    box-shadow: 0 1px 2px rgba(60, 64, 67, 0.3), 0 1px 3px 1px rgba(60, 64, 67, 0.15);\n",
              "    fill: var(--button-hover-fill-color);\n",
              "  }\n",
              "\n",
              "  .colab-df-quickchart-complete:disabled,\n",
              "  .colab-df-quickchart-complete:disabled:hover {\n",
              "    background-color: var(--disabled-bg-color);\n",
              "    fill: var(--disabled-fill-color);\n",
              "    box-shadow: none;\n",
              "  }\n",
              "\n",
              "  .colab-df-spinner {\n",
              "    border: 2px solid var(--fill-color);\n",
              "    border-color: transparent;\n",
              "    border-bottom-color: var(--fill-color);\n",
              "    animation:\n",
              "      spin 1s steps(1) infinite;\n",
              "  }\n",
              "\n",
              "  @keyframes spin {\n",
              "    0% {\n",
              "      border-color: transparent;\n",
              "      border-bottom-color: var(--fill-color);\n",
              "      border-left-color: var(--fill-color);\n",
              "    }\n",
              "    20% {\n",
              "      border-color: transparent;\n",
              "      border-left-color: var(--fill-color);\n",
              "      border-top-color: var(--fill-color);\n",
              "    }\n",
              "    30% {\n",
              "      border-color: transparent;\n",
              "      border-left-color: var(--fill-color);\n",
              "      border-top-color: var(--fill-color);\n",
              "      border-right-color: var(--fill-color);\n",
              "    }\n",
              "    40% {\n",
              "      border-color: transparent;\n",
              "      border-right-color: var(--fill-color);\n",
              "      border-top-color: var(--fill-color);\n",
              "    }\n",
              "    60% {\n",
              "      border-color: transparent;\n",
              "      border-right-color: var(--fill-color);\n",
              "    }\n",
              "    80% {\n",
              "      border-color: transparent;\n",
              "      border-right-color: var(--fill-color);\n",
              "      border-bottom-color: var(--fill-color);\n",
              "    }\n",
              "    90% {\n",
              "      border-color: transparent;\n",
              "      border-bottom-color: var(--fill-color);\n",
              "    }\n",
              "  }\n",
              "</style>\n",
              "\n",
              "  <script>\n",
              "    async function quickchart(key) {\n",
              "      const quickchartButtonEl =\n",
              "        document.querySelector('#' + key + ' button');\n",
              "      quickchartButtonEl.disabled = true;  // To prevent multiple clicks.\n",
              "      quickchartButtonEl.classList.add('colab-df-spinner');\n",
              "      try {\n",
              "        const charts = await google.colab.kernel.invokeFunction(\n",
              "            'suggestCharts', [key], {});\n",
              "      } catch (error) {\n",
              "        console.error('Error during call to suggestCharts:', error);\n",
              "      }\n",
              "      quickchartButtonEl.classList.remove('colab-df-spinner');\n",
              "      quickchartButtonEl.classList.add('colab-df-quickchart-complete');\n",
              "    }\n",
              "    (() => {\n",
              "      let quickchartButtonEl =\n",
              "        document.querySelector('#df-666e4e36-1356-4925-bcdb-debc1587acfd button');\n",
              "      quickchartButtonEl.style.display =\n",
              "        google.colab.kernel.accessAllowed ? 'block' : 'none';\n",
              "    })();\n",
              "  </script>\n",
              "</div>\n",
              "\n",
              "    </div>\n",
              "  </div>\n"
            ],
            "application/vnd.google.colaboratory.intrinsic+json": {
              "type": "dataframe",
              "variable_name": "dataset",
              "summary": "{\n  \"name\": \"dataset\",\n  \"rows\": 8523,\n  \"fields\": [\n    {\n      \"column\": \"ProductID\",\n      \"properties\": {\n        \"dtype\": \"category\",\n        \"num_unique_values\": 1559,\n        \"samples\": [\n          \"FDY01\",\n          \"FDG05\",\n          \"NCJ29\"\n        ],\n        \"semantic_type\": \"\",\n        \"description\": \"\"\n      }\n    },\n    {\n      \"column\": \"Weight\",\n      \"properties\": {\n        \"dtype\": \"number\",\n        \"std\": 4.643456499186395,\n        \"min\": 4.555,\n        \"max\": 21.35,\n        \"num_unique_values\": 415,\n        \"samples\": [\n          16.75,\n          8.695,\n          7.605\n        ],\n        \"semantic_type\": \"\",\n        \"description\": \"\"\n      }\n    },\n    {\n      \"column\": \"FatContent\",\n      \"properties\": {\n        \"dtype\": \"category\",\n        \"num_unique_values\": 5,\n        \"samples\": [\n          \"Regular\",\n          \"reg\",\n          \"low fat\"\n        ],\n        \"semantic_type\": \"\",\n        \"description\": \"\"\n      }\n    },\n    {\n      \"column\": \"ProductVisibility\",\n      \"properties\": {\n        \"dtype\": \"number\",\n        \"std\": 0.051597822321135196,\n        \"min\": 0.0,\n        \"max\": 0.328390948,\n        \"num_unique_values\": 7880,\n        \"samples\": [\n          0.224837308,\n          0.046088273,\n          0.0204702\n        ],\n        \"semantic_type\": \"\",\n        \"description\": \"\"\n      }\n    },\n    {\n      \"column\": \"ProductType\",\n      \"properties\": {\n        \"dtype\": \"category\",\n        \"num_unique_values\": 16,\n        \"samples\": [\n          \"Dairy\",\n          \"Soft Drinks\",\n          \"Baking Goods\"\n        ],\n        \"semantic_type\": \"\",\n        \"description\": \"\"\n      }\n    },\n    {\n      \"column\": \"MRP\",\n      \"properties\": {\n        \"dtype\": \"number\",\n        \"std\": 62.27506651219039,\n        \"min\": 31.29,\n        \"max\": 266.8884,\n        \"num_unique_values\": 5938,\n        \"samples\": [\n          255.9672,\n          93.512,\n          208.3954\n        ],\n        \"semantic_type\": \"\",\n        \"description\": \"\"\n      }\n    },\n    {\n      \"column\": \"OutletID\",\n      \"properties\": {\n        \"dtype\": \"category\",\n        \"num_unique_values\": 10,\n        \"samples\": [\n          \"OUT035\",\n          \"OUT018\",\n          \"OUT045\"\n        ],\n        \"semantic_type\": \"\",\n        \"description\": \"\"\n      }\n    },\n    {\n      \"column\": \"EstablishmentYear\",\n      \"properties\": {\n        \"dtype\": \"number\",\n        \"std\": 8,\n        \"min\": 1985,\n        \"max\": 2009,\n        \"num_unique_values\": 9,\n        \"samples\": [\n          1997,\n          2009,\n          2002\n        ],\n        \"semantic_type\": \"\",\n        \"description\": \"\"\n      }\n    },\n    {\n      \"column\": \"OutletSize\",\n      \"properties\": {\n        \"dtype\": \"category\",\n        \"num_unique_values\": 3,\n        \"samples\": [\n          \"Medium\",\n          \"High\",\n          \"Small\"\n        ],\n        \"semantic_type\": \"\",\n        \"description\": \"\"\n      }\n    },\n    {\n      \"column\": \"LocationType\",\n      \"properties\": {\n        \"dtype\": \"category\",\n        \"num_unique_values\": 3,\n        \"samples\": [\n          \"Tier 1\",\n          \"Tier 3\",\n          \"Tier 2\"\n        ],\n        \"semantic_type\": \"\",\n        \"description\": \"\"\n      }\n    },\n    {\n      \"column\": \"OutletType\",\n      \"properties\": {\n        \"dtype\": \"category\",\n        \"num_unique_values\": 4,\n        \"samples\": [\n          \"Supermarket Type2\",\n          \"Supermarket Type3\",\n          \"Supermarket Type1\"\n        ],\n        \"semantic_type\": \"\",\n        \"description\": \"\"\n      }\n    },\n    {\n      \"column\": \"OutletSales\",\n      \"properties\": {\n        \"dtype\": \"number\",\n        \"std\": 1706.499615733832,\n        \"min\": 33.29,\n        \"max\": 13086.9648,\n        \"num_unique_values\": 3493,\n        \"samples\": [\n          5466.8838,\n          8417.7094,\n          5888.3352\n        ],\n        \"semantic_type\": \"\",\n        \"description\": \"\"\n      }\n    }\n  ]\n}"
            }
          },
          "metadata": {},
          "execution_count": 2
        }
      ]
    },
    {
      "cell_type": "code",
      "source": [
        "# Seperate the whole datset into categorical and numerical columns...\n",
        "\n",
        "categorical_cols = dataset.select_dtypes(include=['object']).columns\n",
        "numerical_cols = dataset.select_dtypes(exclude=['object']).columns\n",
        "\n",
        "if categorical_cols.empty:\n",
        "  print(\"❌ No Categorical Columns Found...\")\n",
        "else:\n",
        "  print(\"✅ Categorical Columns found: \\n\", categorical_cols, \"\\n\")\n",
        "\n",
        "if numerical_cols.empty:\n",
        "  print(\"❌ No Numerical Columns Found...\")\n",
        "else:\n",
        "  print(\"✅ Numerical Columns found: \\n\", numerical_cols)"
      ],
      "metadata": {
        "id": "zcZDaNI0I-4g",
        "outputId": "513a2bdf-081e-422a-8ca7-116d1f5952b6",
        "colab": {
          "base_uri": "https://localhost:8080/"
        }
      },
      "execution_count": 3,
      "outputs": [
        {
          "output_type": "stream",
          "name": "stdout",
          "text": [
            "✅ Categorical Columns found: \n",
            " Index(['ProductID', 'FatContent', 'ProductType', 'OutletID', 'OutletSize',\n",
            "       'LocationType', 'OutletType'],\n",
            "      dtype='object') \n",
            "\n",
            "✅ Numerical Columns found: \n",
            " Index(['Weight', 'ProductVisibility', 'MRP', 'EstablishmentYear',\n",
            "       'OutletSales'],\n",
            "      dtype='object')\n"
          ]
        }
      ]
    },
    {
      "cell_type": "code",
      "source": [
        "print(\"> Shape of the Dataset: \", dataset.shape, \"\\n\")\n",
        "print(\"> Information about Dataset:\")\n",
        "print(dataset.info(), \"\\n\")\n",
        "print(\"> Statistical summary of the Dataset:\")\n",
        "# print(dataset.describe().map(lambda x: round(x, 4)))\n",
        "print(dataset.describe())"
      ],
      "metadata": {
        "collapsed": true,
        "outputId": "1e4b641c-deb1-45d0-b46e-51253fac57cc",
        "colab": {
          "base_uri": "https://localhost:8080/"
        },
        "id": "ZW3HjieQAry2"
      },
      "execution_count": 4,
      "outputs": [
        {
          "output_type": "stream",
          "name": "stdout",
          "text": [
            "> Shape of the Dataset:  (8523, 12) \n",
            "\n",
            "> Information about Dataset:\n",
            "<class 'pandas.core.frame.DataFrame'>\n",
            "RangeIndex: 8523 entries, 0 to 8522\n",
            "Data columns (total 12 columns):\n",
            " #   Column             Non-Null Count  Dtype  \n",
            "---  ------             --------------  -----  \n",
            " 0   ProductID          8523 non-null   object \n",
            " 1   Weight             7060 non-null   float64\n",
            " 2   FatContent         8523 non-null   object \n",
            " 3   ProductVisibility  8523 non-null   float64\n",
            " 4   ProductType        8523 non-null   object \n",
            " 5   MRP                8523 non-null   float64\n",
            " 6   OutletID           8523 non-null   object \n",
            " 7   EstablishmentYear  8523 non-null   int64  \n",
            " 8   OutletSize         6113 non-null   object \n",
            " 9   LocationType       8523 non-null   object \n",
            " 10  OutletType         8523 non-null   object \n",
            " 11  OutletSales        8523 non-null   float64\n",
            "dtypes: float64(4), int64(1), object(7)\n",
            "memory usage: 799.2+ KB\n",
            "None \n",
            "\n",
            "> Statistical summary of the Dataset:\n",
            "        Weight  ProductVisibility      MRP  EstablishmentYear  OutletSales\n",
            "count 7,060.00           8,523.00 8,523.00           8,523.00     8,523.00\n",
            "mean     12.86               0.07   140.99           1,997.83     2,181.29\n",
            "std       4.64               0.05    62.28               8.37     1,706.50\n",
            "min       4.55               0.00    31.29           1,985.00        33.29\n",
            "25%       8.77               0.03    93.83           1,987.00       834.25\n",
            "50%      12.60               0.05   143.01           1,999.00     1,794.33\n",
            "75%      16.85               0.09   185.64           2,004.00     3,101.30\n",
            "max      21.35               0.33   266.89           2,009.00    13,086.96\n"
          ]
        }
      ]
    },
    {
      "cell_type": "code",
      "source": [
        "# plt.figure(figsize=(10, 6))\n",
        "sns.distplot(dataset.iloc[:, -1], bins=30, kde=True)\n",
        "plt.title('Distribution of Last Column')\n",
        "plt.show()"
      ],
      "metadata": {
        "colab": {
          "base_uri": "https://localhost:8080/",
          "height": 472
        },
        "id": "Q5P2M-1WPDVh",
        "outputId": "732df1c7-9681-48bf-8e7f-c04decfe8e06"
      },
      "execution_count": 5,
      "outputs": [
        {
          "output_type": "display_data",
          "data": {
            "text/plain": [
              "<Figure size 640x480 with 1 Axes>"
            ],
            "image/png": "[encoded data removed]"
          },
          "metadata": {}
        }
      ]
    },
    {
      "cell_type": "code",
      "source": [
        "# Plot target distribution\n",
        "sns.histplot(dataset.iloc[:, -1], bins=30, kde=True)\n",
        "plt.title('Distribution of Last Column')\n",
        "plt.show()"
      ],
      "metadata": {
        "id": "_z7mUwRhXBoc",
        "outputId": "bd2b4564-6db5-44b0-98fa-c4d055a21384",
        "colab": {
          "base_uri": "https://localhost:8080/",
          "height": 472
        }
      },
      "execution_count": 6,
      "outputs": [
        {
          "output_type": "display_data",
          "data": {
            "text/plain": [
              "<Figure size 640x480 with 1 Axes>"
            ],
            "image/png": "[encoded data removed]"
          },
          "metadata": {}
        }
      ]
    },
    {
      "cell_type": "code",
      "source": [
        "# Correlation Matrix Heatmap\n",
        "sns.heatmap(dataset[numerical_cols].corr(), annot=True, cmap='coolwarm')\n",
        "plt.title('Correlation Matrix \\n',fontsize=20,  fontweight=800)\n",
        "plt.show()"
      ],
      "metadata": {
        "id": "5bMrljUcI9zR",
        "outputId": "e420c498-142c-488f-b0c9-9ef60fc912c1",
        "colab": {
          "base_uri": "https://localhost:8080/",
          "height": 607
        }
      },
      "execution_count": 7,
      "outputs": [
        {
          "output_type": "display_data",
          "data": {
            "text/plain": [
              "<Figure size 640x480 with 2 Axes>"
            ],
            "image/png": "[encoded data removed]"
          },
          "metadata": {}
        }
      ]
    },
    {
      "cell_type": "code",
      "source": [
        "# Boxplot for OutletType vs OutletSales\n",
        "# plt.figure(figsize=(10, 6))\n",
        "sns.boxplot(x='OutletType', y='OutletSales', data=dataset)\n",
        "plt.xticks(rotation=45)\n",
        "plt.title('OutletType vs OutletSales')\n",
        "plt.show()"
      ],
      "metadata": {
        "id": "0jDYyh8VCPKE",
        "outputId": "0dfeb449-73e1-45e5-9ba6-92ddd5f9442d",
        "colab": {
          "base_uri": "https://localhost:8080/",
          "height": 563
        }
      },
      "execution_count": 8,
      "outputs": [
        {
          "output_type": "display_data",
          "data": {
            "text/plain": [
              "<Figure size 640x480 with 1 Axes>"
            ],
            "image/png": "[encoded data removed]"
          },
          "metadata": {}
        }
      ]
    },
    {
      "cell_type": "markdown",
      "source": [
        "## Step-3:- Checking the Dataset:-"
      ],
      "metadata": {
        "id": "e0E0usXBAry4"
      }
    },
    {
      "cell_type": "markdown",
      "source": [
        "### Step-3.1: Checking any Duplicate Data and Handling them:-"
      ],
      "metadata": {
        "id": "PSX5IX9RAry5"
      }
    },
    {
      "cell_type": "code",
      "source": [
        "if dataset.duplicated().any():\n",
        "  dataset.drop_duplicates(inplace=True)\n",
        "  print(\"✅ Duplicate Data(or Identical Rows) found and Removed...\")\n",
        "else:\n",
        "    print(\"❌ No Duplicate Data(or Identical Rows) found...\")"
      ],
      "metadata": {
        "outputId": "e820fcdb-0a2f-46f6-fb1a-08107ce9bef9",
        "colab": {
          "base_uri": "https://localhost:8080/"
        },
        "id": "XzvdrZlWAry5"
      },
      "execution_count": 9,
      "outputs": [
        {
          "output_type": "stream",
          "name": "stdout",
          "text": [
            "❌ No Duplicate Data(or Identical Rows) found...\n"
          ]
        }
      ]
    },
    {
      "cell_type": "markdown",
      "source": [
        "### Step-3.2: Cheking any Missing Data and Handling them:-"
      ],
      "metadata": {
        "id": "FKBEjTdDAry6"
      }
    },
    {
      "cell_type": "code",
      "source": [
        "# Here from the module named impute of the library scikit-learn, we are using the SimpleImputer Class to Handle the Missing Values.\n",
        "from sklearn.impute import SimpleImputer\n",
        "\n",
        "missing_data_counts = dataset.isnull().sum() + dataset.isin(['', 'N/A', 'Unknown', 'NaN']).sum()\n",
        "\n",
        "# if dataset.isnull().values.any() or dataset.isin(['', 'NaN', 'N/A', 'Unknown']).any().any():\n",
        "if missing_data_counts.any():\n",
        "\n",
        "  categorical_missing_counts = dataset[categorical_cols].isnull().sum() + dataset[categorical_cols].isin(['', 'N/A', 'Unknown', 'NaN']).sum()\n",
        "  numerical_missing_counts = dataset[numerical_cols].isnull().sum()\n",
        "\n",
        "  # Replace \"Unknown\" with NaN in categorical columns\n",
        "  for col in categorical_cols:\n",
        "    dataset[col] = dataset[col].replace('Unknown', np.nan)\n",
        "\n",
        "\n",
        "  # Check if there are any missing values (categorical or numerical)\n",
        "  if categorical_missing_counts.any() or numerical_missing_counts.any():\n",
        "      # Print missing counts for categorical columns in the desired format\n",
        "      print(\"⚠️ Missing Data Found! Handling them...\\n\")\n",
        "      print(\"Missing Data Counts in Categorical Columns: \\n\", categorical_missing_counts)\n",
        "      print(\"\\n\")\n",
        "      print(\"Missing Data Counts in Numerical Columns: \\n\", numerical_missing_counts)\n",
        "      print(\"\\n\")\n",
        "\n",
        "      # Create imputers for categorical and numerical features\n",
        "      categorical_imputer = SimpleImputer(missing_values=np.nan, strategy='most_frequent')\n",
        "      numerical_imputer = SimpleImputer(missing_values=np.nan, strategy='mean')\n",
        "\n",
        "      # Apply imputers to the selected columns in X\n",
        "      if len(categorical_cols) > 0:\n",
        "        categorical_cols_for_impution = [col for col in categorical_cols if col != dataset.columns[-1]]\n",
        "        dataset[categorical_cols_for_impution] = categorical_imputer.fit_transform(dataset[categorical_cols_for_impution])\n",
        "\n",
        "      # Exclude the dependent variable column (last column) if it's numerical\n",
        "      numerical_cols_for_impution = [col for col in numerical_cols if col != dataset.columns[-1]]\n",
        "      if len(numerical_cols_for_impution) > 0:\n",
        "          dataset[numerical_cols_for_impution] = numerical_imputer.fit_transform(dataset[numerical_cols_for_impution])\n",
        "      # if len(numerical_cols) > 0:\n",
        "          # dataset[numerical_cols] = numerical_imputer.fit_transform(dataset[numerical_cols])\n",
        "      print(\"✅ Missing Data Handled Successfully...\")\n",
        "      print(\"New Data with replaced missing values: \\n\", dataset.head(10).to_string(header=True))\n",
        "else:\n",
        "    print(\"❌ No missing data found...\")\n",
        "\n"
      ],
      "metadata": {
        "colab": {
          "base_uri": "https://localhost:8080/"
        },
        "outputId": "a4be4c8e-334d-444c-e810-f471ae3dbffa",
        "id": "vg_Slpg2Ary7"
      },
      "execution_count": 10,
      "outputs": [
        {
          "output_type": "stream",
          "name": "stdout",
          "text": [
            "⚠️ Missing Data Found! Handling them...\n",
            "\n",
            "Missing Data Counts in Categorical Columns: \n",
            " ProductID          0\n",
            "FatContent         0\n",
            "ProductType        0\n",
            "OutletID           0\n",
            "OutletSize      2410\n",
            "LocationType       0\n",
            "OutletType         0\n",
            "dtype: int64\n",
            "\n",
            "\n",
            "Missing Data Counts in Numerical Columns: \n",
            " Weight               1463\n",
            "ProductVisibility       0\n",
            "MRP                     0\n",
            "EstablishmentYear       0\n",
            "OutletSales             0\n",
            "dtype: int64\n",
            "\n",
            "\n",
            "✅ Missing Data Handled Successfully...\n",
            "New Data with replaced missing values: \n",
            "   ProductID  Weight FatContent  ProductVisibility            ProductType    MRP OutletID  EstablishmentYear OutletSize LocationType         OutletType  OutletSales\n",
            "0     FDA15    9.30    Low Fat               0.02                  Dairy 249.81   OUT049           1,999.00     Medium       Tier 1  Supermarket Type1     3,735.14\n",
            "1     DRC01    5.92    Regular               0.02            Soft Drinks  48.27   OUT018           2,009.00     Medium       Tier 3  Supermarket Type2       443.42\n",
            "2     FDN15   17.50    Low Fat               0.02                   Meat 141.62   OUT049           1,999.00     Medium       Tier 1  Supermarket Type1     2,097.27\n",
            "3     FDX07   19.20    Regular               0.00  Fruits and Vegetables 182.09   OUT010           1,998.00     Medium       Tier 3      Grocery Store       732.38\n",
            "4     NCD19    8.93    Low Fat               0.00              Household  53.86   OUT013           1,987.00       High       Tier 3  Supermarket Type1       994.71\n",
            "5     FDP36   10.39    Regular               0.00           Baking Goods  51.40   OUT018           2,009.00     Medium       Tier 3  Supermarket Type2       556.61\n",
            "6     FDO10   13.65    Regular               0.01            Snack Foods  57.66   OUT013           1,987.00       High       Tier 3  Supermarket Type1       343.55\n",
            "7     FDP10   12.86    Low Fat               0.13            Snack Foods 107.76   OUT027           1,985.00     Medium       Tier 3  Supermarket Type3     4,022.76\n",
            "8     FDH17   16.20    Regular               0.02           Frozen Foods  96.97   OUT045           2,002.00     Medium       Tier 2  Supermarket Type1     1,076.60\n",
            "9     FDU28   19.20    Regular               0.09           Frozen Foods 187.82   OUT017           2,007.00     Medium       Tier 2  Supermarket Type1     4,710.53\n"
          ]
        }
      ]
    },
    {
      "cell_type": "markdown",
      "source": [
        "### Step-3.3: Checking any Synonyms or Aliases and Handling them:-"
      ],
      "metadata": {
        "id": "-F0V-G0-Ary8"
      }
    },
    {
      "cell_type": "code",
      "source": [
        "# for col in dataset.columns:\n",
        "#   # Get value counts and convert to DataFrame with column name\n",
        "#   # .reset_index(name='Counts: '): This converts the Series into a DataFrame and names the count column as 'Counts: '.\n",
        "#   value_counts_dataset = dataset[col].value_counts().rename_axis('Unique Values: ').reset_index(name='Counts: ')\n",
        "\n",
        "#   # Transpose and print with formatting\n",
        "#   print(f\"Column: \\t\\t'{col}'\")\n",
        "#   # .to_string(header=False): This converts the transposed DataFrame to a string for printing and removes the header row.\n",
        "#   print(value_counts_dataset.T.to_string(header=False), \"\\n\")\n"
      ],
      "metadata": {
        "id": "rJwxtUSyAry8"
      },
      "execution_count": 11,
      "outputs": []
    },
    {
      "cell_type": "code",
      "source": [
        "# # Handling ProductID Column\n",
        "dataset['ProductID'] = dataset['ProductID'].apply(lambda x: x[:2])\n",
        "# dataset['ProductID'] = dataset['ProductID'].map({'FD': 'Food', 'NC': 'Non-Consumable', 'DR': 'Drinks'})\n",
        "print(\"> After Handling the Prefixes of 'ProductID' Column and changed to new Name: {'FD': 'Food', 'NC': 'Non-Consumable', 'DR': 'Drinks'}...\")\n",
        "print(dataset['ProductID'].value_counts())\n",
        "\n",
        "print(\"\\n\")\n",
        "\n",
        "# Handling FatContent Column\n",
        "dataset['FatContent'] = dataset['FatContent'].replace({ 'LF': 'Low Fat', 'low fat': 'Low Fat', 'Low fat': 'Low Fat', 'reg': 'Regular'})\n",
        "dataset.loc[dataset['ProductID'] == 'NC', 'FatContent'] = 'Non-Edible'\n",
        "print(\"> After Handling the Aliases of 'FatContent' Column: Low Fat and Regular & Adding a new Category: Non-Edible...\")\n",
        "print(dataset['FatContent'].value_counts())\n",
        "\n",
        "print(\"\\n\")\n",
        "\n",
        "# Handling EstablishmentYear Column\n",
        "import datetime as dt\n",
        "current_year = dt.datetime.today().year\n",
        "dataset['OutletAge'] = current_year - dataset['EstablishmentYear']\n",
        "dataset = dataset.drop('EstablishmentYear', axis=1)\n",
        "print(\"> 'EstablishmentYear' column is Deleted, Instead 'OutletAge' column is created...\")\n",
        "# print(dataset['OutletAge'].value_counts())\n",
        "outlet_age_counts = dataset['OutletAge'].value_counts().rename_axis('Age').reset_index(name='Counts')\n",
        "print(\"Outlet Age: \\n\", outlet_age_counts.to_string(index=False))  # Print without row index"
      ],
      "metadata": {
        "id": "c7_f2UyaCzI9",
        "outputId": "5b6b740e-5f9a-4bd2-afad-73b221ff025c",
        "colab": {
          "base_uri": "https://localhost:8080/"
        }
      },
      "execution_count": 12,
      "outputs": [
        {
          "output_type": "stream",
          "name": "stdout",
          "text": [
            "> After Handling the Prefixes of 'ProductID' Column and changed to new Name: {'FD': 'Food', 'NC': 'Non-Consumable', 'DR': 'Drinks'}...\n",
            "ProductID\n",
            "FD    6125\n",
            "NC    1599\n",
            "DR     799\n",
            "Name: count, dtype: int64\n",
            "\n",
            "\n",
            "> After Handling the Aliases of 'FatContent' Column: Low Fat and Regular & Adding a new Category: Non-Edible...\n",
            "FatContent\n",
            "Low Fat       3918\n",
            "Regular       3006\n",
            "Non-Edible    1599\n",
            "Name: count, dtype: int64\n",
            "\n",
            "\n",
            "> 'EstablishmentYear' column is Deleted, Instead 'OutletAge' column is created...\n",
            "Outlet Age: \n",
            "   Age  Counts\n",
            "40.00    1463\n",
            "38.00     932\n",
            "26.00     930\n",
            "28.00     930\n",
            "21.00     930\n",
            "23.00     929\n",
            "16.00     928\n",
            "18.00     926\n",
            "27.00     555\n"
          ]
        }
      ]
    },
    {
      "cell_type": "markdown",
      "source": [
        "### Step-3.4: Checking for Stopwords and Stemming them:-"
      ],
      "metadata": {
        "id": "szLznVnf1W1h"
      }
    },
    {
      "cell_type": "code",
      "source": [
        "from nltk.corpus import stopwords\n",
        "from nltk.stem.porter import PorterStemmer\n",
        "\n",
        "if categorical_cols.any():\n",
        "\n",
        "  nltk.download('stopwords')\n",
        "\n",
        "  stop_words = set(stopwords.words('english'))\n",
        "  # stop_words = stop_words.remove('not')\n",
        "  print(\"\\n Stop Words are: \", stop_words, \"\\n\")\n",
        "  def stemming(text):\n",
        "      words = text.lower().split()\n",
        "\n",
        "      stemmer = PorterStemmer()\n",
        "      stemmed_words = [stemmer.stem(word) for word in words if word not in stop_words]\n",
        "      return ' '.join(stemmed_words)  # Join stemmed words back into a string\n",
        "\n",
        "  # Apply the stemming function to the specified columns\n",
        "  for column in categorical_cols:\n",
        "      dataset[column] = dataset[column].astype(str).apply(stemming)\n",
        "\n",
        "  print(\"✅ Stemming Completed Successfully... \\n\")\n",
        "  print(dataset.head().to_string(header=True))\n",
        "else:\n",
        "  print(\"❌ No Stemming Needed...\")"
      ],
      "metadata": {
        "id": "iMWNF_e5j0vb",
        "outputId": "988013af-cf3a-4afc-fff1-b7cf8d35df22",
        "colab": {
          "base_uri": "https://localhost:8080/"
        }
      },
      "execution_count": 13,
      "outputs": [
        {
          "output_type": "stream",
          "name": "stderr",
          "text": [
            "[nltk_data] Downloading package stopwords to /root/nltk_data...\n",
            "[nltk_data]   Package stopwords is already up-to-date!\n"
          ]
        },
        {
          "output_type": "stream",
          "name": "stdout",
          "text": [
            "\n",
            " Stop Words are:  {'don', 'both', 'yourself', \"don't\", \"shan't\", 'all', 'who', 'other', 'our', 'wasn', 'than', 'these', 'been', 'between', \"hasn't\", 'o', 'theirs', 'yourselves', \"they've\", 'hadn', 'aren', \"she'd\", 'y', 'couldn', 'i', 'nor', 'out', \"you've\", 'doesn', 'have', 're', 'shan', \"isn't\", 'the', 'after', 'an', 'mightn', \"they'd\", 'their', 'were', 'down', 'just', 'd', \"needn't\", 'here', 'a', 'it', \"won't\", 'which', \"it's\", \"aren't\", 'needn', 'mustn', 'its', 'herself', 'while', \"mustn't\", 'ours', \"you'll\", 'did', 'do', 'itself', 'from', 'only', 'has', \"hadn't\", \"he'd\", 'they', \"it'll\", 'most', 'below', 'isn', 'she', 'same', \"it'd\", 'because', \"he'll\", 'hers', 'there', 'ourselves', 'on', 'what', 'are', \"i'm\", 's', 'or', 'didn', 'this', 'to', \"we'll\", \"she'll\", 'had', 'ma', 'once', \"didn't\", 'am', \"we're\", \"they're\", 'such', 'about', 'during', \"should've\", 'more', 've', \"couldn't\", 'through', 'own', 'at', 'in', 'you', 'above', 'some', 'when', 'those', 'that', 'for', 'of', 'her', 'why', 'shouldn', 'll', 'm', 'but', 'myself', 'should', 'is', 'so', 'against', 'wouldn', 'ain', 'then', 'how', \"i'll\", 'himself', 'off', 'very', \"i'd\", \"he's\", 'into', 'haven', 'over', 'we', 'your', 'his', 'he', 'until', 'hasn', 'my', 'can', 'whom', 'me', 'as', 'again', \"i've\", 'under', 'further', \"you're\", 't', \"wasn't\", \"they'll\", 'and', 'weren', 'too', 'few', 'not', 'themselves', 'him', 'yours', \"wouldn't\", \"we've\", \"we'd\", 'won', 'will', 'up', 'by', 'does', 'them', 'before', \"you'd\", 'be', \"doesn't\", 'now', 'with', \"haven't\", 'was', 'having', \"she's\", \"shouldn't\", 'where', \"mightn't\", 'if', 'no', 'being', 'doing', \"weren't\", 'any', 'each', \"that'll\"} \n",
            "\n",
            "✅ Stemming Completed Successfully... \n",
            "\n",
            "  ProductID  Weight FatContent  ProductVisibility  ProductType    MRP OutletID OutletSize LocationType         OutletType  OutletSales  OutletAge\n",
            "0        fd    9.30    low fat               0.02        dairi 249.81   out049     medium       tier 1  supermarket type1     3,735.14      26.00\n",
            "1        dr    5.92    regular               0.02   soft drink  48.27   out018     medium       tier 3  supermarket type2       443.42      16.00\n",
            "2        fd   17.50    low fat               0.02         meat 141.62   out049     medium       tier 1  supermarket type1     2,097.27      26.00\n",
            "3        fd   19.20    regular               0.00  fruit veget 182.09   out010     medium       tier 3      groceri store       732.38      27.00\n",
            "4        nc    8.93     non-ed               0.00    household  53.86   out013       high       tier 3  supermarket type1       994.71      38.00\n"
          ]
        }
      ]
    },
    {
      "cell_type": "markdown",
      "metadata": {
        "id": "kluQwU4vAry9"
      },
      "source": [
        "### Step-3.5: Checking any Categorical Data and Encoding them:-"
      ]
    },
    {
      "cell_type": "code",
      "source": [
        "# `sklearn.compose` is a module in scikit-learn (a popular Python machine learning library) used for combining different data transformations.\n",
        "# sklearn.preprocessing is a module within scikit-learn that provides tools for preparing your data for machine learning algorithms.\n",
        "# LabelEncoder is a specific class designed to convert categorical labels (like 'France', 'Spain', 'Germany') into numerical labels (like 0, 1, 2).\n",
        "\n",
        "import scipy.sparse\n",
        "from sklearn.compose import ColumnTransformer\n",
        "from sklearn.preprocessing import OneHotEncoder, LabelEncoder\n",
        "\n",
        "X = dataset.iloc[:, :-1]\n",
        "y = dataset.iloc[:, -1].values\n",
        "\n",
        "repeating_cols = []\n",
        "for col in categorical_cols:\n",
        "    # Matrix of Feature\n",
        "    if col != dataset.columns[-1]:\n",
        "      print(f\"> String Values present in Column '{col}'.\")\n",
        "      # Check for repeating values within the categorical column\n",
        "      value_counts = dataset[col].value_counts()\n",
        "      repeating_values = value_counts[value_counts > 1].index.tolist()\n",
        "      if repeating_values:\n",
        "        repeating_cols.append(col)\n",
        "        print(f\"\\t- Also, Categorical values found in column '{col}': {repeating_values}.\")\n",
        "        print(f\"\\t✅ '{col}' is Encoded Successfully...\\n\")\n",
        "\n",
        "      else:\n",
        "        print(f\"\\t❌ But No Categorical values found in column '{col}'.\\n\")\n",
        "\n",
        "    # Dependent Variable/Output\n",
        "    if col == dataset.columns[-1]:\n",
        "      print(f\"> String Values present in Column '{col}'(Output Column).\")\n",
        "      # Check for repeating values within the categorical column\n",
        "      value_counts = dataset[col].value_counts()\n",
        "      repeating_values = value_counts[value_counts > 1].index.tolist()\n",
        "      if repeating_values:\n",
        "        print(f\"\\t- Also, Categorical values found in column '{col}': {repeating_values}\")\n",
        "        le = LabelEncoder()\n",
        "        y = le.fit_transform(dataset[col])\n",
        "        print(f\"\\t✅ '{col}' is Encoded Successfully...\\n\")\n",
        "      else:\n",
        "        print(f\"\\t❌ But No Categorical values found in column '{col}'.\\n\")\n",
        "\n",
        "print(\"=> Repeating Columns in Matrix of Features(X): \", repeating_cols, \"\\n\")\n",
        "if repeating_cols:\n",
        "  encoder = ColumnTransformer(transformers=[('encoder', OneHotEncoder(), repeating_cols)], remainder='passthrough')\n",
        "  encoder_transform = encoder.fit_transform(X)\n",
        "\n",
        "  # Conditional conversion to dense array\n",
        "  if scipy.sparse.issparse(encoder_transform):  # Check if sparse\n",
        "    X = encoder_transform.toarray()\n",
        "  else:\n",
        "    X = encoder_transform\n",
        "\n",
        "else:\n",
        "  print(\"❌ No Repeating Columns found in Matrix of Features(X). \\n\")\n",
        "\n",
        "print(\"Matrix of Features(X): \\n\", pd.DataFrame(X).head().to_string(header=True))\n",
        "print(\"\\n\")\n",
        "print(\"Dependent Variable(y): \\n\", pd.DataFrame(y).head().to_string(header=False, index=False))\n"
      ],
      "metadata": {
        "colab": {
          "base_uri": "https://localhost:8080/"
        },
        "id": "iliWxO0n-9UQ",
        "outputId": "dd27f58e-74a9-48e6-98da-d888605b5d4d"
      },
      "execution_count": 14,
      "outputs": [
        {
          "output_type": "stream",
          "name": "stdout",
          "text": [
            "> String Values present in Column 'ProductID'.\n",
            "\t- Also, Categorical values found in column 'ProductID': ['fd', 'nc', 'dr'].\n",
            "\t✅ 'ProductID' is Encoded Successfully...\n",
            "\n",
            "> String Values present in Column 'FatContent'.\n",
            "\t- Also, Categorical values found in column 'FatContent': ['low fat', 'regular', 'non-ed'].\n",
            "\t✅ 'FatContent' is Encoded Successfully...\n",
            "\n",
            "> String Values present in Column 'ProductType'.\n",
            "\t- Also, Categorical values found in column 'ProductType': ['fruit veget', 'snack food', 'household', 'frozen food', 'dairi', 'can', 'bake good', 'health hygien', 'soft drink', 'meat', 'bread', 'hard drink', 'other', 'starchi food', 'breakfast', 'seafood'].\n",
            "\t✅ 'ProductType' is Encoded Successfully...\n",
            "\n",
            "> String Values present in Column 'OutletID'.\n",
            "\t- Also, Categorical values found in column 'OutletID': ['out027', 'out013', 'out049', 'out046', 'out035', 'out045', 'out018', 'out017', 'out010', 'out019'].\n",
            "\t✅ 'OutletID' is Encoded Successfully...\n",
            "\n",
            "> String Values present in Column 'OutletSize'.\n",
            "\t- Also, Categorical values found in column 'OutletSize': ['medium', 'small', 'high'].\n",
            "\t✅ 'OutletSize' is Encoded Successfully...\n",
            "\n",
            "> String Values present in Column 'LocationType'.\n",
            "\t- Also, Categorical values found in column 'LocationType': ['tier 3', 'tier 2', 'tier 1'].\n",
            "\t✅ 'LocationType' is Encoded Successfully...\n",
            "\n",
            "> String Values present in Column 'OutletType'.\n",
            "\t- Also, Categorical values found in column 'OutletType': ['supermarket type1', 'groceri store', 'supermarket type3', 'supermarket type2'].\n",
            "\t✅ 'OutletType' is Encoded Successfully...\n",
            "\n",
            "=> Repeating Columns in Matrix of Features(X):  ['ProductID', 'FatContent', 'ProductType', 'OutletID', 'OutletSize', 'LocationType', 'OutletType'] \n",
            "\n",
            "Matrix of Features(X): \n",
            "     0    1    2    3    4    5    6    7    8    9    10   11   12   13   14   15   16   17   18   19   20   21   22   23   24   25   26   27   28   29   30   31   32   33   34   35   36   37   38   39   40   41    42   43     44       45\n",
            "0 0.00 1.00 0.00 1.00 0.00 0.00 0.00 0.00 0.00 0.00 1.00 0.00 0.00 0.00 0.00 0.00 0.00 0.00 0.00 0.00 0.00 0.00 0.00 0.00 0.00 0.00 0.00 0.00 0.00 0.00 0.00 1.00 0.00 1.00 0.00 1.00 0.00 0.00 0.00 1.00 0.00 0.00  9.30 0.02 249.81 3,735.14\n",
            "1 1.00 0.00 0.00 0.00 0.00 1.00 0.00 0.00 0.00 0.00 0.00 0.00 0.00 0.00 0.00 0.00 0.00 0.00 0.00 0.00 1.00 0.00 0.00 0.00 0.00 1.00 0.00 0.00 0.00 0.00 0.00 0.00 0.00 1.00 0.00 0.00 0.00 1.00 0.00 0.00 1.00 0.00  5.92 0.02  48.27   443.42\n",
            "2 0.00 1.00 0.00 1.00 0.00 0.00 0.00 0.00 0.00 0.00 0.00 0.00 0.00 0.00 0.00 0.00 1.00 0.00 0.00 0.00 0.00 0.00 0.00 0.00 0.00 0.00 0.00 0.00 0.00 0.00 0.00 1.00 0.00 1.00 0.00 1.00 0.00 0.00 0.00 1.00 0.00 0.00 17.50 0.02 141.62 2,097.27\n",
            "3 0.00 1.00 0.00 0.00 0.00 1.00 0.00 0.00 0.00 0.00 0.00 0.00 1.00 0.00 0.00 0.00 0.00 0.00 0.00 0.00 0.00 0.00 1.00 0.00 0.00 0.00 0.00 0.00 0.00 0.00 0.00 0.00 0.00 1.00 0.00 0.00 0.00 1.00 1.00 0.00 0.00 0.00 19.20 0.00 182.09   732.38\n",
            "4 0.00 0.00 1.00 0.00 1.00 0.00 0.00 0.00 0.00 0.00 0.00 0.00 0.00 0.00 0.00 1.00 0.00 0.00 0.00 0.00 0.00 0.00 0.00 1.00 0.00 0.00 0.00 0.00 0.00 0.00 0.00 0.00 1.00 0.00 0.00 0.00 0.00 1.00 0.00 1.00 0.00 0.00  8.93 0.00  53.86   994.71\n",
            "\n",
            "\n",
            "Dependent Variable(y): \n",
            " 26.00\n",
            "16.00\n",
            "26.00\n",
            "27.00\n",
            "38.00\n"
          ]
        }
      ]
    },
    {
      "cell_type": "markdown",
      "metadata": {
        "id": "qb_vcgm3qZKW"
      },
      "source": [
        "## Step-4: Split the Dataset into the Training set and Test set:-"
      ]
    },
    {
      "cell_type": "code",
      "source": [
        "from sklearn.model_selection import train_test_split\n",
        "\n",
        "X_train, X_test, y_train, y_test = train_test_split(X, y, test_size=0.2, random_state=42)\n",
        "\n",
        "print(\"Printing Training Sets: \")\n",
        "print(\"> X_train: \\n\", X_train)\n",
        "print(\"> X_test: \\n\", X_test, \"\\n\")\n",
        "\n",
        "print(\"\\n\")\n",
        "\n",
        "print(\"Printing Test Sets: \")\n",
        "print(\"> y_train: \\n\", y_train)\n",
        "print(\"> y_test: \\n\", y_test)"
      ],
      "metadata": {
        "id": "4ML-zBGmBkeI",
        "colab": {
          "base_uri": "https://localhost:8080/"
        },
        "outputId": "0cb6a10c-35ad-4ae1-a9f4-4a3b58c67fd0"
      },
      "execution_count": 15,
      "outputs": [
        {
          "output_type": "stream",
          "name": "stdout",
          "text": [
            "Printing Training Sets: \n",
            "> X_train: \n",
            " [[0.00 1.00 0.00 ... 0.04 171.34 2,386.23]\n",
            " [0.00 0.00 1.00 ... 0.05 170.54 3,103.96]\n",
            " [0.00 1.00 0.00 ... 0.08 111.72 1,125.20]\n",
            " ...\n",
            " [0.00 0.00 1.00 ... 0.02 237.36 6,145.33]\n",
            " [0.00 1.00 0.00 ... 0.05 117.95 1,649.85]\n",
            " [0.00 0.00 1.00 ... 0.02 95.74 965.41]]\n",
            "> X_test: \n",
            " [[0.00 1.00 0.00 ... 0.03 79.43 1,743.06]\n",
            " [0.00 0.00 1.00 ... 0.07 42.71 356.87]\n",
            " [0.00 1.00 0.00 ... 0.04 42.05 377.51]\n",
            " ...\n",
            " [0.00 1.00 0.00 ... 0.04 42.05 629.18]\n",
            " [0.00 1.00 0.00 ... 0.14 50.50 253.00]\n",
            " [0.00 1.00 0.00 ... 0.06 109.23 976.73]] \n",
            "\n",
            "\n",
            "\n",
            "Printing Test Sets: \n",
            "> y_train: \n",
            " [26.00 23.00 28.00 ... 23.00 18.00 28.00]\n",
            "> y_test: \n",
            " [38.00 28.00 26.00 ... 38.00 16.00 23.00]\n"
          ]
        }
      ]
    },
    {
      "cell_type": "markdown",
      "metadata": {
        "id": "TpGqbS4TqkIR"
      },
      "source": [
        "## Step-5: Feature Scaling:-"
      ]
    },
    {
      "cell_type": "code",
      "source": [
        "\"\"\" Here we are not applying Feature Scaling in Dependent Variable (y), because there are only 0 and 1 values in y \"\"\"\n",
        "# StandardScaler class from scikit-learn, which is a tool for standardization and Normalization.\n",
        "from sklearn.preprocessing import StandardScaler\n",
        "\n",
        "scaler = StandardScaler()\n",
        "\n",
        "# Convert X_train and X_test to NumPy arrays if they are DataFrames\n",
        "X_train = X_train.to_numpy() if isinstance(X_train, pd.DataFrame) else X_train\n",
        "X_test = X_test.to_numpy() if isinstance(X_test, pd.DataFrame) else X_test\n",
        "\n",
        "# Iterate through columns of X_train and X_test\n",
        "for col in range(X_train.shape[1]):  # Use range to get column indices\n",
        "    # Check if all values in the column are 0 or 1\n",
        "    if np.all(np.isin(X_train[:, col], [0, 1])):\n",
        "        continue  # Skip scaling for this column\n",
        "    else:\n",
        "        # Reshape the column before scaling\n",
        "        X_train[:, col] = scaler.fit_transform(X_train[:, col].reshape(-1, 1)).flatten()\n",
        "        X_test[:, col] = scaler.transform(X_test[:, col].reshape(-1, 1)).flatten()\n",
        "\n",
        "print(\"✅ Feature Scaling is Done Successfully...\\n\")\n",
        "print(\"Printing Training Sets after Feature Scaling:\")\n",
        "print(\"> X_train: \\n\", X_train)\n",
        "print(\"\\n\")\n",
        "print(\"Printing Test Sets after Feature Scaling:\")\n",
        "print(\"> X_test: \\n\", X_test)\n",
        "print(\"\\n\")\n",
        "print(pd.DataFrame(X).head().to_string())"
      ],
      "metadata": {
        "id": "HKf1Or3_BlW1",
        "colab": {
          "base_uri": "https://localhost:8080/"
        },
        "outputId": "0a4b3467-7884-4c91-dc60-71e19ad6e098"
      },
      "execution_count": 16,
      "outputs": [
        {
          "output_type": "stream",
          "name": "stdout",
          "text": [
            "✅ Feature Scaling is Done Successfully...\n",
            "\n",
            "Printing Training Sets after Feature Scaling:\n",
            "> X_train: \n",
            " [[0.00 1.00 0.00 ... -0.60 0.47 0.11]\n",
            " [0.00 0.00 1.00 ... -0.36 0.46 0.52]\n",
            " [0.00 1.00 0.00 ... 0.19 -0.48 -0.63]\n",
            " ...\n",
            " [0.00 0.00 1.00 ... -0.92 1.53 2.29]\n",
            " [0.00 1.00 0.00 ... -0.23 -0.38 -0.32]\n",
            " [0.00 0.00 1.00 ... -0.95 -0.74 -0.72]]\n",
            "\n",
            "\n",
            "Printing Test Sets after Feature Scaling:\n",
            "> X_test: \n",
            " [[0.00 1.00 0.00 ... -0.77 -1.00 -0.27]\n",
            " [0.00 0.00 1.00 ... 0.10 -1.59 -1.07]\n",
            " [0.00 1.00 0.00 ... -0.48 -1.60 -1.06]\n",
            " ...\n",
            " [0.00 1.00 0.00 ... -0.48 -1.60 -0.91]\n",
            " [0.00 1.00 0.00 ... 1.46 -1.46 -1.13]\n",
            " [0.00 1.00 0.00 ... -0.21 -0.52 -0.71]]\n",
            "\n",
            "\n",
            "    0    1    2    3    4    5    6    7    8    9    10   11   12   13   14   15   16   17   18   19   20   21   22   23   24   25   26   27   28   29   30   31   32   33   34   35   36   37   38   39   40   41    42   43     44       45\n",
            "0 0.00 1.00 0.00 1.00 0.00 0.00 0.00 0.00 0.00 0.00 1.00 0.00 0.00 0.00 0.00 0.00 0.00 0.00 0.00 0.00 0.00 0.00 0.00 0.00 0.00 0.00 0.00 0.00 0.00 0.00 0.00 1.00 0.00 1.00 0.00 1.00 0.00 0.00 0.00 1.00 0.00 0.00  9.30 0.02 249.81 3,735.14\n",
            "1 1.00 0.00 0.00 0.00 0.00 1.00 0.00 0.00 0.00 0.00 0.00 0.00 0.00 0.00 0.00 0.00 0.00 0.00 0.00 0.00 1.00 0.00 0.00 0.00 0.00 1.00 0.00 0.00 0.00 0.00 0.00 0.00 0.00 1.00 0.00 0.00 0.00 1.00 0.00 0.00 1.00 0.00  5.92 0.02  48.27   443.42\n",
            "2 0.00 1.00 0.00 1.00 0.00 0.00 0.00 0.00 0.00 0.00 0.00 0.00 0.00 0.00 0.00 0.00 1.00 0.00 0.00 0.00 0.00 0.00 0.00 0.00 0.00 0.00 0.00 0.00 0.00 0.00 0.00 1.00 0.00 1.00 0.00 1.00 0.00 0.00 0.00 1.00 0.00 0.00 17.50 0.02 141.62 2,097.27\n",
            "3 0.00 1.00 0.00 0.00 0.00 1.00 0.00 0.00 0.00 0.00 0.00 0.00 1.00 0.00 0.00 0.00 0.00 0.00 0.00 0.00 0.00 0.00 1.00 0.00 0.00 0.00 0.00 0.00 0.00 0.00 0.00 0.00 0.00 1.00 0.00 0.00 0.00 1.00 1.00 0.00 0.00 0.00 19.20 0.00 182.09   732.38\n",
            "4 0.00 0.00 1.00 0.00 1.00 0.00 0.00 0.00 0.00 0.00 0.00 0.00 0.00 0.00 0.00 1.00 0.00 0.00 0.00 0.00 0.00 0.00 0.00 1.00 0.00 0.00 0.00 0.00 0.00 0.00 0.00 0.00 1.00 0.00 0.00 0.00 0.00 1.00 0.00 1.00 0.00 0.00  8.93 0.00  53.86   994.71\n"
          ]
        }
      ]
    },
    {
      "cell_type": "markdown",
      "source": [
        "# ***Step-B: Model Builing & Evaluation...***"
      ],
      "metadata": {
        "id": "hvV8DZ4YRkcQ"
      }
    },
    {
      "cell_type": "code",
      "source": [
        "from sklearn.linear_model import LinearRegression, Ridge, Lasso, ElasticNet\n",
        "from sklearn.ensemble import RandomForestRegressor, GradientBoostingRegressor\n",
        "from sklearn.tree import DecisionTreeRegressor\n",
        "from sklearn.svm import SVR\n",
        "from sklearn.neighbors import KNeighborsRegressor\n",
        "from sklearn.metrics import r2_score, mean_squared_error, mean_absolute_error\n",
        "from sklearn.model_selection import cross_val_score\n",
        "from xgboost import XGBRegressor\n",
        "from lightgbm import LGBMRegressor\n",
        "\n",
        "models = {\n",
        "    LinearRegression(),\n",
        "    DecisionTreeRegressor(),\n",
        "    RandomForestRegressor(),\n",
        "    KNeighborsRegressor(),\n",
        "    SVR(),\n",
        "    GradientBoostingRegressor(),\n",
        "    ElasticNet(),\n",
        "    XGBRegressor(),\n",
        "    # LGBMRegressor(n_estimators=100, learning_rate=0.1, max_depth=5),\n",
        "    Ridge(),\n",
        "    Lasso(),\n",
        "}\n",
        "\n",
        "# models = [\n",
        "#     DecisionTreeRegressor(\n",
        "#       criterion=\"squared_error\",  # Default: minimizes MSE\n",
        "#       max_depth=5,  # Limits tree depth to prevent overfitting\n",
        "#       min_samples_split=10,  # Minimum samples required to split\n",
        "#       min_samples_leaf=4,  # Minimum samples per leaf node\n",
        "#       random_state=42\n",
        "#     ),\n",
        "#     RandomForestRegressor(\n",
        "#       n_estimators=100,  # Number of trees in the forest\n",
        "#       max_depth=5,  # Limits depth to avoid overfitting\n",
        "#       min_samples_split=5,  # Minimum samples needed to split\n",
        "#       min_samples_leaf=2,  # Minimum samples per leaf node\n",
        "#       random_state=42,\n",
        "#       n_jobs=-1  # Uses all CPU cores for faster training\n",
        "#     ),\n",
        "#     KNeighborsRegressor(\n",
        "#       n_neighbors=5,  # Number of neighbors\n",
        "#       weights=\"distance\",  # Weighs closer neighbors more\n",
        "#       algorithm=\"auto\",  # Automatically selects the best algorithm\n",
        "#       leaf_size=30\n",
        "#     ),\n",
        "#     SVR(\n",
        "#       kernel=\"rbf\",  # Radial Basis Function kernel for non-linearity\n",
        "#       C=100,  # Regularization parameter (higher = more complexity)\n",
        "#       epsilon=0.1,  # Defines margin of error\n",
        "#       gamma=\"scale\"  # Auto kernel coefficient\n",
        "#     )\n",
        "# ]\n",
        "\n",
        "for model in models:\n",
        "  model.fit(X_train, y_train)\n",
        "  y_pred = model.predict(X_test)\n",
        "\n",
        "  cv_score = cross_val_score(model, X_train, y_train, cv=5)\n",
        "  print(f\"✅ {model.__class__.__name__} is trained Sucessfully...\")\n",
        "  print(f\"-> {model.__class__.__name__}:-\")\n",
        "  print(f\"\\t R2 Score : {r2_score(y_test, y_pred):.2f}\")\n",
        "  print(f\"\\t CV Score : {cv_score.mean()*100:.2f}%\")\n",
        "  print(f\"\\t MSE: \\t\\t{mean_squared_error(y_test, y_pred):.2f}\")\n",
        "  print(f\"\\t RMSE : \\t{np.sqrt(mean_squared_error(y_test, y_pred)):.2f}\")\n",
        "  print(f\"\\t MAE : \\t\\t{mean_absolute_error(y_test, y_pred):.2f}\")\n",
        "  print(\"\\n\")\n"
      ],
      "metadata": {
        "id": "GpWJiuY-d7hA",
        "colab": {
          "base_uri": "https://localhost:8080/"
        },
        "outputId": "483285d5-9adc-4297-b58b-0021ca9bc0af"
      },
      "execution_count": 17,
      "outputs": [
        {
          "output_type": "stream",
          "name": "stdout",
          "text": [
            "✅ KNeighborsRegressor is trained Sucessfully...\n",
            "-> KNeighborsRegressor:-\n",
            "\t R2 Score : 1.00\n",
            "\t CV Score : 99.86%\n",
            "\t MSE: \t\t0.07\n",
            "\t RMSE : \t0.27\n",
            "\t MAE : \t\t0.06\n",
            "\n",
            "\n",
            "✅ LinearRegression is trained Sucessfully...\n",
            "-> LinearRegression:-\n",
            "\t R2 Score : 1.00\n",
            "\t CV Score : 100.00%\n",
            "\t MSE: \t\t0.00\n",
            "\t RMSE : \t0.00\n",
            "\t MAE : \t\t0.00\n",
            "\n",
            "\n",
            "✅ GradientBoostingRegressor is trained Sucessfully...\n",
            "-> GradientBoostingRegressor:-\n",
            "\t R2 Score : 1.00\n",
            "\t CV Score : 100.00%\n",
            "\t MSE: \t\t0.00\n",
            "\t RMSE : \t0.01\n",
            "\t MAE : \t\t0.01\n",
            "\n",
            "\n",
            "✅ XGBRegressor is trained Sucessfully...\n",
            "-> XGBRegressor:-\n",
            "\t R2 Score : 1.00\n",
            "\t CV Score : 100.00%\n",
            "\t MSE: \t\t0.00\n",
            "\t RMSE : \t0.00\n",
            "\t MAE : \t\t0.00\n",
            "\n",
            "\n",
            "✅ SVR is trained Sucessfully...\n",
            "-> SVR:-\n",
            "\t R2 Score : 1.00\n",
            "\t CV Score : 99.63%\n",
            "\t MSE: \t\t0.18\n",
            "\t RMSE : \t0.42\n",
            "\t MAE : \t\t0.21\n",
            "\n",
            "\n",
            "✅ ElasticNet is trained Sucessfully...\n",
            "-> ElasticNet:-\n",
            "\t R2 Score : 0.39\n",
            "\t CV Score : 38.82%\n",
            "\t MSE: \t\t41.99\n",
            "\t RMSE : \t6.48\n",
            "\t MAE : \t\t5.18\n",
            "\n",
            "\n",
            "✅ Ridge is trained Sucessfully...\n",
            "-> Ridge:-\n",
            "\t R2 Score : 1.00\n",
            "\t CV Score : 100.00%\n",
            "\t MSE: \t\t0.00\n",
            "\t RMSE : \t0.01\n",
            "\t MAE : \t\t0.01\n",
            "\n",
            "\n",
            "✅ Lasso is trained Sucessfully...\n",
            "-> Lasso:-\n",
            "\t R2 Score : 0.46\n",
            "\t CV Score : 46.20%\n",
            "\t MSE: \t\t37.12\n",
            "\t RMSE : \t6.09\n",
            "\t MAE : \t\t5.01\n",
            "\n",
            "\n",
            "✅ RandomForestRegressor is trained Sucessfully...\n",
            "-> RandomForestRegressor:-\n",
            "\t R2 Score : 1.00\n",
            "\t CV Score : 100.00%\n",
            "\t MSE: \t\t0.00\n",
            "\t RMSE : \t0.00\n",
            "\t MAE : \t\t0.00\n",
            "\n",
            "\n",
            "✅ DecisionTreeRegressor is trained Sucessfully...\n",
            "-> DecisionTreeRegressor:-\n",
            "\t R2 Score : 1.00\n",
            "\t CV Score : 100.00%\n",
            "\t MSE: \t\t0.00\n",
            "\t RMSE : \t0.00\n",
            "\t MAE : \t\t0.00\n",
            "\n",
            "\n"
          ]
        }
      ]
    },
    {
      "cell_type": "markdown",
      "source": [
        "# ***Step-C: Saving the Model & Testing It...***"
      ],
      "metadata": {
        "id": "G11mtxNq0HjS"
      }
    },
    {
      "cell_type": "markdown",
      "source": [
        "## Step-1: Saving the Model(.sav):-"
      ],
      "metadata": {
        "id": "aoW9m4031c7W"
      }
    },
    {
      "cell_type": "code",
      "source": [
        "import pickle\n",
        "\n",
        "# Train and save models\n",
        "for model in models:\n",
        "    # model.fit(X_train, y_train)\n",
        "\n",
        "    # Save each model with its name\n",
        "    model_filename = f\"{model.__class__.__name__}.sav\"\n",
        "    pickle.dump(model, open(model_filename, \"wb\"))\n",
        "\n",
        "    print(f\"✅ Model saved: {model_filename}\")"
      ],
      "metadata": {
        "id": "QviVZEWr0c1L",
        "outputId": "71244c7a-dd61-4fc7-a2de-5a818c32a7f7",
        "colab": {
          "base_uri": "https://localhost:8080/"
        }
      },
      "execution_count": 18,
      "outputs": [
        {
          "output_type": "stream",
          "name": "stdout",
          "text": [
            "✅ Model saved: KNeighborsRegressor.sav\n",
            "✅ Model saved: LinearRegression.sav\n",
            "✅ Model saved: GradientBoostingRegressor.sav\n",
            "✅ Model saved: XGBRegressor.sav\n",
            "✅ Model saved: SVR.sav\n",
            "✅ Model saved: ElasticNet.sav\n",
            "✅ Model saved: Ridge.sav\n",
            "✅ Model saved: Lasso.sav\n",
            "✅ Model saved: RandomForestRegressor.sav\n",
            "✅ Model saved: DecisionTreeRegressor.sav\n"
          ]
        }
      ]
    },
    {
      "cell_type": "markdown",
      "source": [
        "## Step-2: Predicting and Testing the Model:-"
      ],
      "metadata": {
        "id": "sUmW0Tdc1kYv"
      }
    },
    {
      "source": [
        "correct_predictions = 0\n",
        "max_correct_predictions = 0\n",
        "model_predictions = {} # dictionary to store model and their correct predictions\n",
        "\n",
        "random_input = np.random.randint(2, 8)\n",
        "print(\"Number of Inputs for Predction: \", random_input, \"\\n\")\n",
        "\n",
        "for i in range(random_input):\n",
        "\n",
        "  sample_input = pd.DataFrame(X_train).iloc[i].values.reshape(1, -1)  # Convert a row to an array\n",
        "  sample_output = round(y_train[i], 2)\n",
        "\n",
        "  print(\"Before Predicting, Sample Data & Output Sales are:-\")\n",
        "  print(\"> Sample Data: \", sample_input)\n",
        "  print(\"> Output: \",sample_output, \"\\n\")\n",
        "\n",
        "  for model in models:\n",
        "    model = pickle.load(open(f\"{model.__class__.__name__}.sav\", \"rb\"))\n",
        "    model_filename = f\"{model.__class__.__name__}.sav\"\n",
        "    print(f\"-> {model.__class__.__name__}:-\")\n",
        "\n",
        "    prediction = model.predict(sample_input)\n",
        "    # print(\" - Predicted Sales:\", prediction[0])\n",
        "    rounded_prediction = round(prediction[0], 2)\n",
        "    print(f\" - Predicted Sales: {rounded_prediction:.2f}\")\n",
        "\n",
        "    if rounded_prediction == sample_output:\n",
        "        correct_predictions += 1\n",
        "        print(\"\\t✅ Nice Work! your Prediction is correct...\\n\")\n",
        "        # increment correct prediction count for the model in the dictionary\n",
        "        model_predictions[model.__class__.__name__] = model_predictions.get(model.__class__.__name__, 0) + 1\n",
        "    else:\n",
        "        print(\"\\t❌ Oops! your Prediction is incorrect...\\n\")\n",
        "\n",
        "  print(\"=\"*75, \"\\n\")"
      ],
      "cell_type": "code",
      "metadata": {
        "id": "-PwMutSzxlJC",
        "outputId": "786d615d-9666-404f-b23f-d01f2b15f242",
        "colab": {
          "base_uri": "https://localhost:8080/"
        },
        "collapsed": true
      },
      "execution_count": 19,
      "outputs": [
        {
          "output_type": "stream",
          "name": "stdout",
          "text": [
            "Number of Inputs for Predction:  6 \n",
            "\n",
            "Before Predicting, Sample Data & Output Sales are:-\n",
            "> Sample Data:  [[0.00 1.00 0.00 0.00 0.00 1.00 0.00 0.00 0.00 0.00 0.00 0.00 1.00 0.00\n",
            "  0.00 0.00 0.00 0.00 0.00 0.00 0.00 0.00 0.00 0.00 0.00 0.00 0.00 0.00\n",
            "  0.00 0.00 0.00 1.00 0.00 1.00 0.00 1.00 0.00 0.00 0.00 1.00 0.00 0.00\n",
            "  -0.80 -0.60 0.47 0.11]]\n",
            "> Output:  26.0 \n",
            "\n",
            "-> KNeighborsRegressor:-\n",
            " - Predicted Sales: 26.00\n",
            "\t✅ Nice Work! your Prediction is correct...\n",
            "\n",
            "-> LinearRegression:-\n",
            " - Predicted Sales: 26.00\n",
            "\t✅ Nice Work! your Prediction is correct...\n",
            "\n",
            "-> GradientBoostingRegressor:-\n",
            " - Predicted Sales: 26.00\n",
            "\t✅ Nice Work! your Prediction is correct...\n",
            "\n",
            "-> XGBRegressor:-\n",
            " - Predicted Sales: 26.00\n",
            "\t✅ Nice Work! your Prediction is correct...\n",
            "\n",
            "-> SVR:-\n",
            " - Predicted Sales: 26.02\n",
            "\t❌ Oops! your Prediction is incorrect...\n",
            "\n",
            "-> ElasticNet:-\n",
            " - Predicted Sales: 26.90\n",
            "\t❌ Oops! your Prediction is incorrect...\n",
            "\n",
            "-> Ridge:-\n",
            " - Predicted Sales: 26.00\n",
            "\t✅ Nice Work! your Prediction is correct...\n",
            "\n",
            "-> Lasso:-\n",
            " - Predicted Sales: 28.56\n",
            "\t❌ Oops! your Prediction is incorrect...\n",
            "\n",
            "-> RandomForestRegressor:-\n",
            " - Predicted Sales: 26.00\n",
            "\t✅ Nice Work! your Prediction is correct...\n",
            "\n",
            "-> DecisionTreeRegressor:-\n",
            " - Predicted Sales: 26.00\n",
            "\t✅ Nice Work! your Prediction is correct...\n",
            "\n",
            "=========================================================================== \n",
            "\n",
            "Before Predicting, Sample Data & Output Sales are:-\n",
            "> Sample Data:  [[0.00 0.00 1.00 0.00 1.00 0.00 0.00 0.00 0.00 0.00 0.00 0.00 0.00 0.00\n",
            "  0.00 1.00 0.00 0.00 0.00 0.00 0.00 0.00 0.00 0.00 0.00 0.00 0.00 0.00\n",
            "  0.00 1.00 0.00 0.00 0.00 1.00 0.00 0.00 1.00 0.00 0.00 1.00 0.00 0.00\n",
            "  1.21 -0.36 0.46 0.52]]\n",
            "> Output:  23.0 \n",
            "\n",
            "-> KNeighborsRegressor:-\n",
            " - Predicted Sales: 23.00\n",
            "\t✅ Nice Work! your Prediction is correct...\n",
            "\n",
            "-> LinearRegression:-\n",
            " - Predicted Sales: 23.00\n",
            "\t✅ Nice Work! your Prediction is correct...\n",
            "\n",
            "-> GradientBoostingRegressor:-\n",
            " - Predicted Sales: 22.99\n",
            "\t❌ Oops! your Prediction is incorrect...\n",
            "\n",
            "-> XGBRegressor:-\n",
            " - Predicted Sales: 23.00\n",
            "\t✅ Nice Work! your Prediction is correct...\n",
            "\n",
            "-> SVR:-\n",
            " - Predicted Sales: 22.95\n",
            "\t❌ Oops! your Prediction is incorrect...\n",
            "\n",
            "-> ElasticNet:-\n",
            " - Predicted Sales: 24.85\n",
            "\t❌ Oops! your Prediction is incorrect...\n",
            "\n",
            "-> Ridge:-\n",
            " - Predicted Sales: 23.00\n",
            "\t✅ Nice Work! your Prediction is correct...\n",
            "\n",
            "-> Lasso:-\n",
            " - Predicted Sales: 23.35\n",
            "\t❌ Oops! your Prediction is incorrect...\n",
            "\n",
            "-> RandomForestRegressor:-\n",
            " - Predicted Sales: 23.00\n",
            "\t✅ Nice Work! your Prediction is correct...\n",
            "\n",
            "-> DecisionTreeRegressor:-\n",
            " - Predicted Sales: 23.00\n",
            "\t✅ Nice Work! your Prediction is correct...\n",
            "\n",
            "=========================================================================== \n",
            "\n",
            "Before Predicting, Sample Data & Output Sales are:-\n",
            "> Sample Data:  [[0.00 1.00 0.00 0.00 0.00 1.00 0.00 0.00 0.00 0.00 0.00 0.00 0.00 0.00\n",
            "  0.00 0.00 1.00 0.00 0.00 0.00 0.00 0.00 0.00 0.00 0.00 0.00 0.00 0.00\n",
            "  0.00 0.00 1.00 0.00 0.00 0.00 1.00 1.00 0.00 0.00 0.00 1.00 0.00 0.00\n",
            "  1.12 0.19 -0.48 -0.63]]\n",
            "> Output:  28.0 \n",
            "\n",
            "-> KNeighborsRegressor:-\n",
            " - Predicted Sales: 28.00\n",
            "\t✅ Nice Work! your Prediction is correct...\n",
            "\n",
            "-> LinearRegression:-\n",
            " - Predicted Sales: 28.00\n",
            "\t✅ Nice Work! your Prediction is correct...\n",
            "\n",
            "-> GradientBoostingRegressor:-\n",
            " - Predicted Sales: 28.00\n",
            "\t✅ Nice Work! your Prediction is correct...\n",
            "\n",
            "-> XGBRegressor:-\n",
            " - Predicted Sales: 28.00\n",
            "\t✅ Nice Work! your Prediction is correct...\n",
            "\n",
            "-> SVR:-\n",
            " - Predicted Sales: 27.90\n",
            "\t❌ Oops! your Prediction is incorrect...\n",
            "\n",
            "-> ElasticNet:-\n",
            " - Predicted Sales: 27.95\n",
            "\t❌ Oops! your Prediction is incorrect...\n",
            "\n",
            "-> Ridge:-\n",
            " - Predicted Sales: 28.00\n",
            "\t✅ Nice Work! your Prediction is correct...\n",
            "\n",
            "-> Lasso:-\n",
            " - Predicted Sales: 29.60\n",
            "\t❌ Oops! your Prediction is incorrect...\n",
            "\n",
            "-> RandomForestRegressor:-\n",
            " - Predicted Sales: 28.00\n",
            "\t✅ Nice Work! your Prediction is correct...\n",
            "\n",
            "-> DecisionTreeRegressor:-\n",
            " - Predicted Sales: 28.00\n",
            "\t✅ Nice Work! your Prediction is correct...\n",
            "\n",
            "=========================================================================== \n",
            "\n",
            "Before Predicting, Sample Data & Output Sales are:-\n",
            "> Sample Data:  [[0.00 1.00 0.00 1.00 0.00 0.00 0.00 0.00 0.00 0.00 0.00 0.00 1.00 0.00\n",
            "  0.00 0.00 0.00 0.00 0.00 0.00 0.00 0.00 0.00 0.00 0.00 0.00 0.00 0.00\n",
            "  0.00 1.00 0.00 0.00 0.00 1.00 0.00 0.00 1.00 0.00 0.00 1.00 0.00 0.00\n",
            "  -1.08 -0.70 -1.60 -1.12]]\n",
            "> Output:  23.0 \n",
            "\n",
            "-> KNeighborsRegressor:-\n",
            " - Predicted Sales: 23.00\n",
            "\t✅ Nice Work! your Prediction is correct...\n",
            "\n",
            "-> LinearRegression:-\n",
            " - Predicted Sales: 23.00\n",
            "\t✅ Nice Work! your Prediction is correct...\n",
            "\n",
            "-> GradientBoostingRegressor:-\n",
            " - Predicted Sales: 22.99\n",
            "\t❌ Oops! your Prediction is incorrect...\n",
            "\n",
            "-> XGBRegressor:-\n",
            " - Predicted Sales: 23.00\n",
            "\t✅ Nice Work! your Prediction is correct...\n",
            "\n",
            "-> SVR:-\n",
            " - Predicted Sales: 22.93\n",
            "\t❌ Oops! your Prediction is incorrect...\n",
            "\n",
            "-> ElasticNet:-\n",
            " - Predicted Sales: 24.85\n",
            "\t❌ Oops! your Prediction is incorrect...\n",
            "\n",
            "-> Ridge:-\n",
            " - Predicted Sales: 23.00\n",
            "\t✅ Nice Work! your Prediction is correct...\n",
            "\n",
            "-> Lasso:-\n",
            " - Predicted Sales: 23.35\n",
            "\t❌ Oops! your Prediction is incorrect...\n",
            "\n",
            "-> RandomForestRegressor:-\n",
            " - Predicted Sales: 23.00\n",
            "\t✅ Nice Work! your Prediction is correct...\n",
            "\n",
            "-> DecisionTreeRegressor:-\n",
            " - Predicted Sales: 23.00\n",
            "\t✅ Nice Work! your Prediction is correct...\n",
            "\n",
            "=========================================================================== \n",
            "\n",
            "Before Predicting, Sample Data & Output Sales are:-\n",
            "> Sample Data:  [[0.00 1.00 0.00 1.00 0.00 0.00 0.00 0.00 0.00 0.00 0.00 0.00 0.00 0.00\n",
            "  0.00 0.00 0.00 0.00 0.00 1.00 0.00 0.00 0.00 0.00 0.00 0.00 0.00 0.00\n",
            "  0.00 0.00 1.00 0.00 0.00 0.00 1.00 1.00 0.00 0.00 0.00 1.00 0.00 0.00\n",
            "  -0.01 1.38 0.22 1.18]]\n",
            "> Output:  28.0 \n",
            "\n",
            "-> KNeighborsRegressor:-\n",
            " - Predicted Sales: 28.00\n",
            "\t✅ Nice Work! your Prediction is correct...\n",
            "\n",
            "-> LinearRegression:-\n",
            " - Predicted Sales: 28.00\n",
            "\t✅ Nice Work! your Prediction is correct...\n",
            "\n",
            "-> GradientBoostingRegressor:-\n",
            " - Predicted Sales: 28.00\n",
            "\t✅ Nice Work! your Prediction is correct...\n",
            "\n",
            "-> XGBRegressor:-\n",
            " - Predicted Sales: 28.00\n",
            "\t✅ Nice Work! your Prediction is correct...\n",
            "\n",
            "-> SVR:-\n",
            " - Predicted Sales: 27.91\n",
            "\t❌ Oops! your Prediction is incorrect...\n",
            "\n",
            "-> ElasticNet:-\n",
            " - Predicted Sales: 27.95\n",
            "\t❌ Oops! your Prediction is incorrect...\n",
            "\n",
            "-> Ridge:-\n",
            " - Predicted Sales: 28.00\n",
            "\t✅ Nice Work! your Prediction is correct...\n",
            "\n",
            "-> Lasso:-\n",
            " - Predicted Sales: 29.60\n",
            "\t❌ Oops! your Prediction is incorrect...\n",
            "\n",
            "-> RandomForestRegressor:-\n",
            " - Predicted Sales: 28.00\n",
            "\t✅ Nice Work! your Prediction is correct...\n",
            "\n",
            "-> DecisionTreeRegressor:-\n",
            " - Predicted Sales: 28.00\n",
            "\t✅ Nice Work! your Prediction is correct...\n",
            "\n",
            "=========================================================================== \n",
            "\n",
            "Before Predicting, Sample Data & Output Sales are:-\n",
            "> Sample Data:  [[0.00 1.00 0.00 0.00 0.00 1.00 0.00 0.00 0.00 0.00 0.00 0.00 1.00 0.00\n",
            "  0.00 0.00 0.00 0.00 0.00 0.00 0.00 0.00 0.00 0.00 0.00 0.00 1.00 0.00\n",
            "  0.00 0.00 0.00 0.00 0.00 0.00 1.00 1.00 0.00 0.00 1.00 0.00 0.00 0.00\n",
            "  -0.01 0.65 1.33 -1.02]]\n",
            "> Output:  40.0 \n",
            "\n",
            "-> KNeighborsRegressor:-\n",
            " - Predicted Sales: 40.00\n",
            "\t✅ Nice Work! your Prediction is correct...\n",
            "\n",
            "-> LinearRegression:-\n",
            " - Predicted Sales: 40.00\n",
            "\t✅ Nice Work! your Prediction is correct...\n",
            "\n",
            "-> GradientBoostingRegressor:-\n",
            " - Predicted Sales: 39.98\n",
            "\t❌ Oops! your Prediction is incorrect...\n",
            "\n",
            "-> XGBRegressor:-\n",
            " - Predicted Sales: 40.00\n",
            "\t✅ Nice Work! your Prediction is correct...\n",
            "\n",
            "-> SVR:-\n",
            " - Predicted Sales: 39.90\n",
            "\t❌ Oops! your Prediction is incorrect...\n",
            "\n",
            "-> ElasticNet:-\n",
            " - Predicted Sales: 28.84\n",
            "\t❌ Oops! your Prediction is incorrect...\n",
            "\n",
            "-> Ridge:-\n",
            " - Predicted Sales: 39.99\n",
            "\t❌ Oops! your Prediction is incorrect...\n",
            "\n",
            "-> Lasso:-\n",
            " - Predicted Sales: 29.60\n",
            "\t❌ Oops! your Prediction is incorrect...\n",
            "\n",
            "-> RandomForestRegressor:-\n",
            " - Predicted Sales: 40.00\n",
            "\t✅ Nice Work! your Prediction is correct...\n",
            "\n",
            "-> DecisionTreeRegressor:-\n",
            " - Predicted Sales: 40.00\n",
            "\t✅ Nice Work! your Prediction is correct...\n",
            "\n",
            "=========================================================================== \n",
            "\n"
          ]
        }
      ]
    },
    {
      "cell_type": "markdown",
      "source": [
        "## Step-3: Selecting the Perfect Model for this Dataset:-"
      ],
      "metadata": {
        "id": "7-Zrk6Cqw69d"
      }
    },
    {
      "source": [
        "# Instead of using max, we'll iterate and check for at least one correct prediction\n",
        "models_with_correct_predictions = []  # List to store models with at least one correct prediction\n",
        "\n",
        "for model_name, correct_count in model_predictions.items():\n",
        "    if correct_count >= 1:  # Check for at least one correct prediction\n",
        "        models_with_correct_predictions.append(model_name)\n",
        "\n",
        "# Print the results\n",
        "if models_with_correct_predictions:\n",
        "    print(\"The following Models achieved at least one correct Prediction:\")\n",
        "    for model_name in models_with_correct_predictions:\n",
        "        print(f\"\\t- ✅ '{model_name}': '{model_predictions[model_name]}' correct predictions\")\n",
        "else:\n",
        "    print(\"No models achieved any correct predictions on the samples.\")"
      ],
      "cell_type": "code",
      "metadata": {
        "colab": {
          "base_uri": "https://localhost:8080/"
        },
        "id": "1WP75eBZvgKW",
        "outputId": "fd8cb813-d42e-4ae9-8f49-753e385420ce"
      },
      "execution_count": 20,
      "outputs": [
        {
          "output_type": "stream",
          "name": "stdout",
          "text": [
            "The following Models achieved at least one correct Prediction:\n",
            "\t- ✅ 'KNeighborsRegressor': '6' correct predictions\n",
            "\t- ✅ 'LinearRegression': '6' correct predictions\n",
            "\t- ✅ 'GradientBoostingRegressor': '3' correct predictions\n",
            "\t- ✅ 'XGBRegressor': '6' correct predictions\n",
            "\t- ✅ 'Ridge': '5' correct predictions\n",
            "\t- ✅ 'RandomForestRegressor': '6' correct predictions\n",
            "\t- ✅ 'DecisionTreeRegressor': '6' correct predictions\n"
          ]
        }
      ]
    },
    {
      "cell_type": "markdown",
      "source": [
        "---\n",
        "# 🏁🎉Hurray! Your Project Work on Google Collab is Completed Successfully🎉🏁\n",
        "---"
      ],
      "metadata": {
        "id": "CFojtQNKxt4O"
      }
    }
  ]
}